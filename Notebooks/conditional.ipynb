{
 "cells": [
  {
   "cell_type": "markdown",
   "id": "8e93ca7a-9dd7-4542-b82c-6d57430282b9",
   "metadata": {},
   "source": [
    "# Conditionals"
   ]
  },
  {
   "cell_type": "code",
   "execution_count": 2,
   "id": "0a41b373-4e1a-4ade-ab31-dd47bb4757bd",
   "metadata": {},
   "outputs": [
    {
     "name": "stdout",
     "output_type": "stream",
     "text": [
      "50.0\n",
      "100.0\n",
      "25.0\n"
     ]
    }
   ],
   "source": [
    "# reviwe loops from yesterday\n",
    "all_elevations = [100,200,50]\n",
    "for elevation in all_elevations:\n",
    "    new_elevation = elevation/2\n",
    "    print(new_elevation)"
   ]
  },
  {
   "cell_type": "code",
   "execution_count": 3,
   "id": "0437eba9-8c3c-4ff9-bad7-d130691d3832",
   "metadata": {},
   "outputs": [
    {
     "name": "stdout",
     "output_type": "stream",
     "text": [
      "50.0\n",
      "100.0\n",
      "25.0\n",
      "[50.0, 100.0, 25.0]\n"
     ]
    }
   ],
   "source": [
    "all_elevations = [100,200,50]\n",
    "elevation_results = []\n",
    "for elevation in all_elevations:\n",
    "    new_elevation = elevation/2\n",
    "    print(new_elevation)\n",
    "    elevation_results.append(new_elevation)\n",
    "\n",
    "print(elevation_results)"
   ]
  },
  {
   "cell_type": "markdown",
   "id": "269aab69-29b7-4cb5-8b8d-44ea1f75465b",
   "metadata": {},
   "source": [
    "### Start conditionals"
   ]
  },
  {
   "cell_type": "code",
   "execution_count": 4,
   "id": "bcc41d29-1370-46e4-9174-f24892d206e8",
   "metadata": {},
   "outputs": [
    {
     "name": "stdout",
     "output_type": "stream",
     "text": [
      "100 is high\n"
     ]
    }
   ],
   "source": [
    "elevation = 100\n",
    "if elevation > 10:\n",
    "    print(elevation,'is high')"
   ]
  },
  {
   "cell_type": "code",
   "execution_count": null,
   "id": "2f87ebe7-2a3e-45e1-aee7-452fbdb224bd",
   "metadata": {},
   "outputs": [],
   "source": [
    "elevation =0\n",
    "if elevation >10:\n",
    "    print(elevation, 'is high')    # no response"
   ]
  },
  {
   "cell_type": "code",
   "execution_count": 7,
   "id": "efbdc333-0f4a-441c-b655-fdabf631019d",
   "metadata": {},
   "outputs": [
    {
     "name": "stdout",
     "output_type": "stream",
     "text": [
      "100\n",
      "100 is high\n",
      "200\n",
      "200 is high\n",
      "5\n",
      "1\n"
     ]
    }
   ],
   "source": [
    "all_elevations = [100,200,5,1]\n",
    "for elevation in all_elevations:\n",
    "    print(elevation)\n",
    "    if elevation > 10:\n",
    "        print(elevation,'is high')\n",
    "        "
   ]
  },
  {
   "cell_type": "code",
   "execution_count": 8,
   "id": "400be63e-4833-44f3-b0a7-3e305b5d5ffe",
   "metadata": {},
   "outputs": [
    {
     "name": "stdout",
     "output_type": "stream",
     "text": [
      "100\n",
      "100 is high\n",
      "200\n",
      "200 is high\n",
      "5\n",
      "5 is low\n",
      "1\n",
      "1 is low\n"
     ]
    }
   ],
   "source": [
    "# with else\n",
    "all_elevations = [100,200,5,1]\n",
    "for elevation in all_elevations:\n",
    "    print(elevation)\n",
    "    if elevation > 10:\n",
    "        print(elevation,'is high')\n",
    "    else:\n",
    "        print(elevation,'is low')"
   ]
  },
  {
   "cell_type": "code",
   "execution_count": 11,
   "id": "ef7bd78e-19f6-46b3-ad77-f4dbd70e642c",
   "metadata": {},
   "outputs": [
    {
     "name": "stdout",
     "output_type": "stream",
     "text": [
      "100\n",
      "100 is high\n",
      "200\n",
      "200 is high\n",
      "5\n",
      "5 is low\n",
      "1\n",
      "1 is low\n"
     ]
    }
   ],
   "source": [
    "#with more controls\n",
    "all_elevations = [100,200,5,1]\n",
    "for elevation in all_elevations:\n",
    "    print(elevation)\n",
    "    if elevation > 10:\n",
    "        print(elevation,'is high')\n",
    "    elif elevation > 100:\n",
    "        print(elevation,'is huge')\n",
    "    else:\n",
    "        print(elevation,'is low')     # the output will be incomplete, change the order then\n",
    "# if a prior if statement is true. the code will not continue to the elif"
   ]
  },
  {
   "cell_type": "code",
   "execution_count": 12,
   "id": "b2f181e2-bddc-4cf8-9577-c15183b2aca7",
   "metadata": {},
   "outputs": [
    {
     "name": "stdout",
     "output_type": "stream",
     "text": [
      "100\n",
      "100 is high\n",
      "200\n",
      "200 is huge\n",
      "5\n",
      "5 is low\n",
      "1\n",
      "1 is low\n"
     ]
    }
   ],
   "source": [
    "all_elevations = [100,200,5,1]\n",
    "for elevation in all_elevations:\n",
    "    print(elevation)\n",
    "    if elevation > 100:\n",
    "        print(elevation,'is huge')\n",
    "    elif elevation > 10:\n",
    "        print(elevation,'is high')\n",
    "    else:\n",
    "        print(elevation,'is low')"
   ]
  },
  {
   "cell_type": "code",
   "execution_count": 14,
   "id": "7baea624-9f67-491e-aad9-3666487cd79b",
   "metadata": {},
   "outputs": [
    {
     "name": "stdout",
     "output_type": "stream",
     "text": [
      "5\n",
      "100\n",
      "10\n",
      "20\n",
      "75\n",
      "85\n",
      "200\n",
      "400\n",
      "['low', 'high', 'low', 'low', 'medium', 'medium', 'high', 'high']\n"
     ]
    }
   ],
   "source": [
    "# with \n",
    "all_elevations = [5,100,10,20,75,85,200,400]\n",
    "elevation_results = []\n",
    "for elevation in all_elevations:\n",
    "    print(elevation)\n",
    "    if elevation>=100:\n",
    "        elevation_results.append('high')\n",
    "    elif elevation < 100 and elevation >= 50:\n",
    "        elevation_results.append('medium')\n",
    "    else:\n",
    "        elevation_results.append('low')\n",
    "\n",
    "print(elevation_results)\n",
    "        "
   ]
  },
  {
   "cell_type": "code",
   "execution_count": 15,
   "id": "1ac9afef-8592-4bc4-86bc-c15345e32960",
   "metadata": {},
   "outputs": [
    {
     "name": "stdout",
     "output_type": "stream",
     "text": [
      "-1.5\n",
      "0.2\n",
      "0.4\n",
      "1.3\n",
      "0.5\n",
      "['0', '0.5', '0.5', '1', '0.5']\n"
     ]
    }
   ],
   "source": [
    "# exercise\n",
    "original = [-1.5,0.2,0.4,1.3,0.5]\n",
    "number_results=[]\n",
    "# 0 = if number is below 0, 1 = if mumber is above 1\n",
    "for number in original:\n",
    "    print(number)\n",
    "    if number>1:\n",
    "        number_results.append('1')\n",
    "    elif number <=1 and number>= 0:\n",
    "        number_results.append('0.5')\n",
    "    else:\n",
    "        number_results.append('0')\n",
    "\n",
    "print(number_results)\n",
    "    "
   ]
  },
  {
   "cell_type": "code",
   "execution_count": null,
   "id": "96f50a90-8b23-4e71-ba80-aaceaf54f03a",
   "metadata": {},
   "outputs": [],
   "source": []
  }
 ],
 "metadata": {
  "kernelspec": {
   "display_name": "Python 3 (ipykernel)",
   "language": "python",
   "name": "python3"
  },
  "language_info": {
   "codemirror_mode": {
    "name": "ipython",
    "version": 3
   },
   "file_extension": ".py",
   "mimetype": "text/x-python",
   "name": "python",
   "nbconvert_exporter": "python",
   "pygments_lexer": "ipython3",
   "version": "3.11.7"
  }
 },
 "nbformat": 4,
 "nbformat_minor": 5
}
