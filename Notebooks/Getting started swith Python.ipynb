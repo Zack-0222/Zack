{
 "cells": [
  {
   "cell_type": "markdown",
   "id": "969b51b3-cce2-45df-8858-c26f900f57ec",
   "metadata": {},
   "source": [
    "Step1: getting to know notebooks"
   ]
  },
  {
   "cell_type": "code",
   "execution_count": 1,
   "id": "487c8da8-fbb4-4ddb-9f2f-c4313a20410c",
   "metadata": {},
   "outputs": [
    {
     "data": {
      "text/plain": [
       "10"
      ]
     },
     "execution_count": 1,
     "metadata": {},
     "output_type": "execute_result"
    }
   ],
   "source": [
    "# this cell contains code\n",
    "3 + 9"
   ]
  },
  {
   "cell_type": "markdown",
   "id": "188f14b2-4b48-4ec8-9950-26c310c8737d",
   "metadata": {},
   "source": [
    "step2: variables"
   ]
  },
  {
   "cell_type": "code",
   "execution_count": null,
   "id": "e3b02350-6a02-4da6-9e2b-0b74d73d01fa",
   "metadata": {},
   "outputs": [],
   "source": [
    "# variable is name for a value/some infomation"
   ]
  },
  {
   "cell_type": "code",
   "execution_count": 3,
   "id": "fe078e8c-46bc-424f-9fde-18f622ea4369",
   "metadata": {},
   "outputs": [],
   "source": [
    "age = 32"
   ]
  },
  {
   "cell_type": "code",
   "execution_count": 4,
   "id": "d75933bb-3e01-4613-a57b-be3eea82cc39",
   "metadata": {},
   "outputs": [
    {
     "name": "stdout",
     "output_type": "stream",
     "text": [
      "35\n"
     ]
    }
   ],
   "source": [
    "print(age)"
   ]
  },
  {
   "cell_type": "code",
   "execution_count": 5,
   "id": "60d87744-c8a8-45bc-92c8-2e3c96a13aba",
   "metadata": {},
   "outputs": [],
   "source": [
    "my_age = 28"
   ]
  },
  {
   "cell_type": "code",
   "execution_count": 6,
   "id": "a4c36b2c-b88b-4cd0-9d49-9ea0e095db27",
   "metadata": {},
   "outputs": [
    {
     "name": "stdout",
     "output_type": "stream",
     "text": [
      "36\n"
     ]
    }
   ],
   "source": [
    "print(my_age)"
   ]
  },
  {
   "cell_type": "code",
   "execution_count": 7,
   "id": "f72e433e-787c-4a84-b2e6-d2f6f5dae3b4",
   "metadata": {},
   "outputs": [],
   "source": [
    "name = 'Zackkkk'"
   ]
  },
  {
   "cell_type": "code",
   "execution_count": 8,
   "id": "adc8ec21-5b69-4e51-8037-d0dbce7bab9f",
   "metadata": {},
   "outputs": [
    {
     "name": "stdout",
     "output_type": "stream",
     "text": [
      "Zack\n"
     ]
    }
   ],
   "source": [
    "print(name)"
   ]
  },
  {
   "cell_type": "code",
   "execution_count": 9,
   "id": "4af1f26f-e7d4-4154-9624-d8429d6f4dac",
   "metadata": {},
   "outputs": [
    {
     "name": "stdout",
     "output_type": "stream",
     "text": [
      "my name is: Zack\n"
     ]
    }
   ],
   "source": [
    "print('my name is:', name)"
   ]
  },
  {
   "cell_type": "code",
   "execution_count": 10,
   "id": "74f02507-4cd1-4349-b637-2540e4e1860e",
   "metadata": {},
   "outputs": [
    {
     "name": "stdout",
     "output_type": "stream",
     "text": [
      "my name is: Zack and i am 36\n"
     ]
    }
   ],
   "source": [
    "print('my name is:', name,'and i am',my_age)"
   ]
  },
  {
   "cell_type": "code",
   "execution_count": 11,
   "id": "0da39f0e-6ba3-4d5a-83d8-317a867380d5",
   "metadata": {},
   "outputs": [],
   "source": [
    "your_name = 'balala'"
   ]
  },
  {
   "cell_type": "code",
   "execution_count": 12,
   "id": "4963afb2-30bc-4859-9524-22ed920616b9",
   "metadata": {},
   "outputs": [
    {
     "name": "stdout",
     "output_type": "stream",
     "text": [
      "balala\n"
     ]
    }
   ],
   "source": [
    "print(your_name)"
   ]
  },
  {
   "cell_type": "code",
   "execution_count": 13,
   "id": "0cf25b03-220d-4bea-b797-cb544623a201",
   "metadata": {},
   "outputs": [
    {
     "name": "stdout",
     "output_type": "stream",
     "text": [
      "in three years i will be 39\n"
     ]
    }
   ],
   "source": [
    "print('in three years i will be',my_age+3)"
   ]
  },
  {
   "cell_type": "code",
   "execution_count": 14,
   "id": "17d3dcf6-0678-4f4d-927b-8ea9cea9ea85",
   "metadata": {},
   "outputs": [],
   "source": [
    "my_age_plus3 = my_age +3"
   ]
  },
  {
   "cell_type": "code",
   "execution_count": 15,
   "id": "83d74a62-1b62-467d-a827-38510107e7ba",
   "metadata": {},
   "outputs": [
    {
     "name": "stdout",
     "output_type": "stream",
     "text": [
      "in three years i will be 39\n"
     ]
    }
   ],
   "source": [
    "print('in three years i will be',my_age_plus3)"
   ]
  },
  {
   "cell_type": "code",
   "execution_count": 16,
   "id": "63258212-faea-4e15-a62e-af50dca6113e",
   "metadata": {},
   "outputs": [
    {
     "data": {
      "text/plain": [
       "6"
      ]
     },
     "execution_count": 16,
     "metadata": {},
     "output_type": "execute_result"
    }
   ],
   "source": [
    "# notebooks do return value without printing \n",
    "len(your_name)"
   ]
  },
  {
   "cell_type": "code",
   "execution_count": 17,
   "id": "460ac32e-40f6-4c09-a4e4-d35fde5dad24",
   "metadata": {},
   "outputs": [
    {
     "name": "stdout",
     "output_type": "stream",
     "text": [
      "6\n"
     ]
    }
   ],
   "source": [
    "# not in nootbooks\n",
    "print(len(your_name))"
   ]
  },
  {
   "cell_type": "code",
   "execution_count": 19,
   "id": "18bdd5be-4b46-42f1-ae13-df8d3b256fd9",
   "metadata": {},
   "outputs": [
    {
     "data": {
      "text/plain": [
       "'a'"
      ]
     },
     "execution_count": 19,
     "metadata": {},
     "output_type": "execute_result"
    }
   ],
   "source": [
    "your_name[1]"
   ]
  },
  {
   "cell_type": "code",
   "execution_count": 20,
   "id": "ce4dc91b-bfd7-40fc-96d7-b9d6da283780",
   "metadata": {},
   "outputs": [
    {
     "data": {
      "text/plain": [
       "'bal'"
      ]
     },
     "execution_count": 20,
     "metadata": {},
     "output_type": "execute_result"
    }
   ],
   "source": [
    "your_name[0:3]"
   ]
  },
  {
   "cell_type": "code",
   "execution_count": 21,
   "id": "e2679bd8-dd01-4418-997c-5f59ad6ecff7",
   "metadata": {},
   "outputs": [],
   "source": [
    "# what are the value assigned to the variables :x ,y, swap\n",
    "\n",
    "x = 1\n",
    "y = 3\n",
    "swap = x\n",
    "x = y\n",
    "y = swap"
   ]
  },
  {
   "cell_type": "code",
   "execution_count": 23,
   "id": "35343c0c-1d5c-42eb-b701-a19090952243",
   "metadata": {},
   "outputs": [
    {
     "name": "stdout",
     "output_type": "stream",
     "text": [
      "x= 3 y= 1 swap= 1\n"
     ]
    }
   ],
   "source": [
    "print('x=',x,'y=',y,'swap=',swap)"
   ]
  },
  {
   "cell_type": "markdown",
   "id": "30a73da4-0257-47cf-815c-db9b72f71e6b",
   "metadata": {},
   "source": [
    "# data types and type conversion\n",
    "## common data types: integers, floats, strings\n",
    "## convert one to the other\n"
   ]
  },
  {
   "cell_type": "code",
   "execution_count": 24,
   "id": "f34d90f6-b696-4707-936b-1e4bdfd2d81d",
   "metadata": {},
   "outputs": [
    {
     "data": {
      "text/plain": [
       "52"
      ]
     },
     "execution_count": 24,
     "metadata": {},
     "output_type": "execute_result"
    }
   ],
   "source": [
    "52"
   ]
  },
  {
   "cell_type": "code",
   "execution_count": 25,
   "id": "896ae373-07a3-4c10-a1b5-dd959ff43cd2",
   "metadata": {},
   "outputs": [
    {
     "data": {
      "text/plain": [
       "int"
      ]
     },
     "execution_count": 25,
     "metadata": {},
     "output_type": "execute_result"
    }
   ],
   "source": [
    "type(52)"
   ]
  },
  {
   "cell_type": "code",
   "execution_count": 26,
   "id": "239dbe67-4457-443b-8523-078cda1ee045",
   "metadata": {},
   "outputs": [
    {
     "data": {
      "text/plain": [
       "int"
      ]
     },
     "execution_count": 26,
     "metadata": {},
     "output_type": "execute_result"
    }
   ],
   "source": [
    "type(age)"
   ]
  },
  {
   "cell_type": "code",
   "execution_count": 27,
   "id": "1fbe7cf2-f823-4221-8335-1145b37420e5",
   "metadata": {},
   "outputs": [
    {
     "data": {
      "text/plain": [
       "str"
      ]
     },
     "execution_count": 27,
     "metadata": {},
     "output_type": "execute_result"
    }
   ],
   "source": [
    "fitness = 'average'\n",
    "type(fitness)"
   ]
  },
  {
   "cell_type": "code",
   "execution_count": 28,
   "id": "0a6bbcff-ea3c-4e6f-9b56-a66f32dabf77",
   "metadata": {},
   "outputs": [
    {
     "data": {
      "text/plain": [
       "str"
      ]
     },
     "execution_count": 28,
     "metadata": {},
     "output_type": "execute_result"
    }
   ],
   "source": [
    "fitness = 'average + 2'\n",
    "type(fitness)"
   ]
  },
  {
   "cell_type": "code",
   "execution_count": 30,
   "id": "ce838dc6-30f6-47a4-a1fb-1e0d8e99788b",
   "metadata": {},
   "outputs": [
    {
     "name": "stdout",
     "output_type": "stream",
     "text": [
      "ZackYo\n"
     ]
    }
   ],
   "source": [
    "first_name = 'Zack'\n",
    "last_name = 'Yo'\n",
    "print(first_name+last_name)"
   ]
  },
  {
   "cell_type": "code",
   "execution_count": 31,
   "id": "3def2897-64ed-4e35-b3a4-d925db9c85f1",
   "metadata": {},
   "outputs": [
    {
     "name": "stdout",
     "output_type": "stream",
     "text": [
      "Zack_Yo\n"
     ]
    }
   ],
   "source": [
    "print(first_name +'_' +last_name)"
   ]
  },
  {
   "cell_type": "code",
   "execution_count": 32,
   "id": "b888ad7c-4a8c-4dca-ad95-be7804112496",
   "metadata": {},
   "outputs": [
    {
     "name": "stdout",
     "output_type": "stream",
     "text": [
      "ZackZackZackZackZackZackZackZackZackZack\n"
     ]
    }
   ],
   "source": [
    "print(first_name * 10)"
   ]
  },
  {
   "cell_type": "code",
   "execution_count": 33,
   "id": "32d9792c-f83d-43ed-b226-b9c795fb03f5",
   "metadata": {},
   "outputs": [
    {
     "data": {
      "text/plain": [
       "2"
      ]
     },
     "execution_count": 33,
     "metadata": {},
     "output_type": "execute_result"
    }
   ],
   "source": [
    "# convert integer to string so we can get number of digits\n",
    "len(str(52))"
   ]
  },
  {
   "cell_type": "code",
   "execution_count": 34,
   "id": "89665007-546a-47f5-bf5c-38b26c9e67a1",
   "metadata": {},
   "outputs": [
    {
     "name": "stdout",
     "output_type": "stream",
     "text": [
      "39\n"
     ]
    },
    {
     "data": {
      "text/plain": [
       "int"
      ]
     },
     "execution_count": 34,
     "metadata": {},
     "output_type": "execute_result"
    }
   ],
   "source": [
    "# convert string to integer so we can add\n",
    "age = '36'\n",
    "age_plus3 = int(age) + 3\n",
    "print(age_plus3)\n",
    "type(age_plus3)"
   ]
  },
  {
   "cell_type": "code",
   "execution_count": 38,
   "id": "34f99fc0-79fe-4240-95c7-e133abc05860",
   "metadata": {},
   "outputs": [
    {
     "name": "stdout",
     "output_type": "stream",
     "text": [
      "39.4\n",
      "18.7\n"
     ]
    },
    {
     "data": {
      "text/plain": [
       "float"
      ]
     },
     "execution_count": 38,
     "metadata": {},
     "output_type": "execute_result"
    }
   ],
   "source": [
    "# floats: decimal number\n",
    "temp = 37.4\n",
    "type(temp)\n",
    "print(temp + 2)\n",
    "print(temp/2)\n",
    "type(temp + 2)"
   ]
  },
  {
   "cell_type": "code",
   "execution_count": 39,
   "id": "eb6b53c2-1897-4ade-8d43-85ddb27d7941",
   "metadata": {},
   "outputs": [
    {
     "data": {
      "text/plain": [
       "36.0"
      ]
     },
     "execution_count": 39,
     "metadata": {},
     "output_type": "execute_result"
    }
   ],
   "source": [
    "# convert integer/string to float\n",
    "age = 36\n",
    "type(age)\n",
    "float(age)"
   ]
  },
  {
   "cell_type": "code",
   "execution_count": 40,
   "id": "404cb5ed-6c1e-4ba3-bf30-f148d287db5c",
   "metadata": {},
   "outputs": [
    {
     "data": {
      "text/plain": [
       "str"
      ]
     },
     "execution_count": 40,
     "metadata": {},
     "output_type": "execute_result"
    }
   ],
   "source": [
    "ph = '7.4'\n",
    "type(ph)"
   ]
  },
  {
   "cell_type": "code",
   "execution_count": 42,
   "id": "e01841d0-41bb-402c-8926-736194b7c6b2",
   "metadata": {},
   "outputs": [],
   "source": [
    "float_ph = float(ph)"
   ]
  },
  {
   "cell_type": "code",
   "execution_count": 43,
   "id": "70c914bf-8767-4fab-919a-b68af141305f",
   "metadata": {},
   "outputs": [
    {
     "name": "stdout",
     "output_type": "stream",
     "text": [
      "7.4\n"
     ]
    }
   ],
   "source": [
    "print(float_ph)"
   ]
  },
  {
   "cell_type": "code",
   "execution_count": 45,
   "id": "c9d78a67-4006-414c-b3dc-12adb4abbaef",
   "metadata": {
    "jupyter": {
     "source_hidden": true
    }
   },
   "outputs": [
    {
     "name": "stdout",
     "output_type": "stream",
     "text": [
      "2.0\n",
      "2.1\n"
     ]
    },
    {
     "ename": "ValueError",
     "evalue": "invalid literal for int() with base 10: '1.1'",
     "output_type": "error",
     "traceback": [
      "\u001b[0;31m---------------------------------------------------------------------------\u001b[0m",
      "\u001b[0;31mValueError\u001b[0m                                Traceback (most recent call last)",
      "Cell \u001b[0;32mIn[45], line 10\u001b[0m\n\u001b[1;32m      8\u001b[0m \u001b[38;5;28mprint\u001b[39m(first \u001b[38;5;241m+\u001b[39m \u001b[38;5;28mfloat\u001b[39m (second)) \u001b[38;5;66;03m# correct\u001b[39;00m\n\u001b[1;32m      9\u001b[0m \u001b[38;5;28mprint\u001b[39m(\u001b[38;5;28mfloat\u001b[39m(second) \u001b[38;5;241m+\u001b[39m \u001b[38;5;28mfloat\u001b[39m (third)) \u001b[38;5;66;03m# 2.1\u001b[39;00m\n\u001b[0;32m---> 10\u001b[0m \u001b[38;5;28mprint\u001b[39m(first\u001b[38;5;241m+\u001b[39m\u001b[38;5;28mint\u001b[39m(third)) \u001b[38;5;66;03m#\u001b[39;00m\n\u001b[1;32m     11\u001b[0m \u001b[38;5;28mprint\u001b[39m(first\u001b[38;5;241m+\u001b[39m\u001b[38;5;28mint\u001b[39m(\u001b[38;5;28mfloat\u001b[39m(third)))\n\u001b[1;32m     12\u001b[0m \u001b[38;5;28mprint\u001b[39m(\u001b[38;5;28mint\u001b[39m(first)\u001b[38;5;241m+\u001b[39m \u001b[38;5;28mint\u001b[39m(\u001b[38;5;28mfloat\u001b[39m(third)))\n",
      "\u001b[0;31mValueError\u001b[0m: invalid literal for int() with base 10: '1.1'"
     ]
    }
   ],
   "source": [
    "# exersize\n",
    "\n",
    "first = 1.0\n",
    "second ='1'\n",
    "third = '1.1'\n",
    "\n",
    "# which operation will reture the float 2.0?\n",
    "print(first + float (second)) # correct\n",
    "print(float(second) + float (third)) # 2.1 (float)\n",
    "print(first+int(third)) # raise error (cannot do float + str)\n",
    "print(first+int(float(third))) # correct\n",
    "print(int(first)+ int(float(third))) # 2 (integer)\n",
    "print(2.0*second) # cannot mutiply string with float"
   ]
  },
  {
   "cell_type": "code",
   "execution_count": null,
   "id": "a450cb0e-6340-4634-bdcb-e182b43dfaec",
   "metadata": {},
   "outputs": [],
   "source": []
  }
 ],
 "metadata": {
  "kernelspec": {
   "display_name": "Python 3 (ipykernel)",
   "language": "python",
   "name": "python3"
  },
  "language_info": {
   "codemirror_mode": {
    "name": "ipython",
    "version": 3
   },
   "file_extension": ".py",
   "mimetype": "text/x-python",
   "name": "python",
   "nbconvert_exporter": "python",
   "pygments_lexer": "ipython3",
   "version": "3.11.7"
  }
 },
 "nbformat": 4,
 "nbformat_minor": 5
}
