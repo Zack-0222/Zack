{
 "cells": [
  {
   "cell_type": "markdown",
   "id": "422d415e-b362-47c2-a78b-51f3b57b9c6a",
   "metadata": {},
   "source": [
    "# For loops"
   ]
  },
  {
   "cell_type": "code",
   "execution_count": 1,
   "id": "f722619f-a2ef-4301-a0aa-1edd9026697e",
   "metadata": {},
   "outputs": [
    {
     "name": "stdout",
     "output_type": "stream",
     "text": [
      "46\n",
      "24\n"
     ]
    }
   ],
   "source": [
    "my_ages = [45, 23,78]\n",
    "print(my_ages[0]+1)\n",
    "print(my_ages[1]+1)"
   ]
  },
  {
   "cell_type": "code",
   "execution_count": 3,
   "id": "a01d67ea-2ef0-49d7-aad2-ce6befcc4696",
   "metadata": {},
   "outputs": [
    {
     "name": "stdout",
     "output_type": "stream",
     "text": [
      "45\n",
      "23\n",
      "78\n"
     ]
    }
   ],
   "source": [
    "for age in my_ages:\n",
    "    print(age)"
   ]
  },
  {
   "cell_type": "code",
   "execution_count": 4,
   "id": "06a77f5c-5b89-4d2a-a62d-b5d3ea702ce5",
   "metadata": {},
   "outputs": [
    {
     "name": "stdout",
     "output_type": "stream",
     "text": [
      "46\n",
      "24\n",
      "79\n"
     ]
    }
   ],
   "source": [
    "for age in my_ages:\n",
    "    print(age+1)"
   ]
  },
  {
   "cell_type": "code",
   "execution_count": 5,
   "id": "1bd3f757-6923-4240-8806-36075b63e92d",
   "metadata": {},
   "outputs": [
    {
     "name": "stdout",
     "output_type": "stream",
     "text": [
      "45\n",
      "23\n",
      "78\n"
     ]
    }
   ],
   "source": [
    "age = 42\n",
    "for age in my_ages:\n",
    "    print(age)"
   ]
  },
  {
   "cell_type": "code",
   "execution_count": 6,
   "id": "fa4f34f1-649f-4d1a-a0f0-b00961423f6c",
   "metadata": {},
   "outputs": [
    {
     "name": "stdout",
     "output_type": "stream",
     "text": [
      "78\n"
     ]
    }
   ],
   "source": [
    "print(age) # the age has been re-defined to 78"
   ]
  },
  {
   "cell_type": "code",
   "execution_count": 7,
   "id": "1eed137d-58be-4632-b4ba-9afb04801edf",
   "metadata": {},
   "outputs": [
    {
     "name": "stdout",
     "output_type": "stream",
     "text": [
      "45\n",
      "46\n",
      "47\n",
      "23\n",
      "24\n",
      "25\n",
      "78\n",
      "79\n",
      "80\n"
     ]
    }
   ],
   "source": [
    "for age in my_ages:\n",
    "    print(age)\n",
    "    print(age+1)\n",
    "    print(age+2)"
   ]
  },
  {
   "cell_type": "code",
   "execution_count": 8,
   "id": "a9b97c0d-a79b-41af-91f0-3921b58ca782",
   "metadata": {},
   "outputs": [
    {
     "name": "stdout",
     "output_type": "stream",
     "text": [
      "45\n",
      "46\n",
      "23\n",
      "24\n",
      "78\n",
      "79\n",
      "80\n"
     ]
    }
   ],
   "source": [
    "for age in my_ages:\n",
    "    print(age)\n",
    "    print(age+1)\n",
    "print(age+2) # not recognized as part of the loop"
   ]
  },
  {
   "cell_type": "code",
   "execution_count": 12,
   "id": "298a1be0-db52-4386-9ce2-517fb688a59d",
   "metadata": {},
   "outputs": [
    {
     "name": "stdout",
     "output_type": "stream",
     "text": [
      "55\n",
      "35\n",
      "24\n",
      "46\n",
      "[55, 35, 24, 46]\n"
     ]
    }
   ],
   "source": [
    "# store new element result from a loop\n",
    "my_ages =[54,34,23,45]\n",
    "my_ages_next_year = []\n",
    "\n",
    "for age in my_ages:\n",
    "    new_age = age+1\n",
    "    print(new_age)\n",
    "    my_ages_next_year.append(new_age)\n",
    "\n",
    "print(my_ages_next_year)"
   ]
  },
  {
   "cell_type": "code",
   "execution_count": 17,
   "id": "76c24c4d-1ba9-4e44-851b-aab7900bf9bf",
   "metadata": {},
   "outputs": [
    {
     "name": "stdout",
     "output_type": "stream",
     "text": [
      "3\n",
      "5\n",
      "4\n"
     ]
    }
   ],
   "source": [
    "# exercise: list of words\n",
    "words = ['red','green','blue']\n",
    "# using loop to calculate the length of each word\n",
    "\n",
    "for word in words:\n",
    "    print(len(word))\n",
    "\n"
   ]
  },
  {
   "cell_type": "code",
   "execution_count": 20,
   "id": "817883f5-fdba-45d4-86ed-504e54a223f6",
   "metadata": {},
   "outputs": [
    {
     "name": "stdout",
     "output_type": "stream",
     "text": [
      "3\n"
     ]
    },
    {
     "ename": "AttributeError",
     "evalue": "'int' object has no attribute 'append'",
     "output_type": "error",
     "traceback": [
      "\u001b[0;31m---------------------------------------------------------------------------\u001b[0m",
      "\u001b[0;31mAttributeError\u001b[0m                            Traceback (most recent call last)",
      "Cell \u001b[0;32mIn[20], line 6\u001b[0m\n\u001b[1;32m      4\u001b[0m     word_len\u001b[38;5;241m=\u001b[39m \u001b[38;5;28mlen\u001b[39m(word)\n\u001b[1;32m      5\u001b[0m     \u001b[38;5;28mprint\u001b[39m(word_len)\n\u001b[0;32m----> 6\u001b[0m     word_len\u001b[38;5;241m.\u001b[39mappend(word_len)\n\u001b[1;32m      8\u001b[0m \u001b[38;5;28mprint\u001b[39m(word_lengths)\n",
      "\u001b[0;31mAttributeError\u001b[0m: 'int' object has no attribute 'append'"
     ]
    }
   ],
   "source": [
    "words = ['red','green','blue']\n",
    "word_lengths=[]\n",
    "for word in words:\n",
    "    word_len= len(word)\n",
    "    print(word_len)\n",
    "    word_len.append(word_len)\n",
    "\n",
    "print(word_lengths)"
   ]
  },
  {
   "cell_type": "code",
   "execution_count": 19,
   "id": "cea043c7-36b5-4dc4-9381-3b7f4d9b48fa",
   "metadata": {},
   "outputs": [
    {
     "name": "stdout",
     "output_type": "stream",
     "text": [
      "0\n",
      "1\n",
      "2\n",
      "3\n",
      "4\n",
      "5\n",
      "6\n",
      "7\n",
      "8\n",
      "9\n"
     ]
    }
   ],
   "source": [
    "for number in range(10):\n",
    "    print(number)"
   ]
  },
  {
   "cell_type": "code",
   "execution_count": 21,
   "id": "8ee357d4-d5df-4a57-be4f-b707037dce79",
   "metadata": {},
   "outputs": [
    {
     "name": "stdout",
     "output_type": "stream",
     "text": [
      "1\n",
      "2\n",
      "3\n",
      "4\n",
      "5\n",
      "6\n",
      "7\n",
      "8\n",
      "9\n",
      "10\n"
     ]
    }
   ],
   "source": [
    "for number in range(1,11):\n",
    "    print(number)"
   ]
  },
  {
   "cell_type": "code",
   "execution_count": 22,
   "id": "beb9a274-9748-4aae-aa69-21cc67088eb7",
   "metadata": {},
   "outputs": [
    {
     "name": "stdout",
     "output_type": "stream",
     "text": [
      "range(1, 11)\n"
     ]
    }
   ],
   "source": [
    "my_range = range(1,11)\n",
    "print(my_range)"
   ]
  },
  {
   "cell_type": "code",
   "execution_count": 23,
   "id": "f84cd9ea-4542-4193-8484-282cbdeb1839",
   "metadata": {},
   "outputs": [
    {
     "name": "stdout",
     "output_type": "stream",
     "text": [
      "L\n",
      "i\n",
      "t\n",
      "h\n",
      "i\n",
      "u\n",
      "m\n"
     ]
    }
   ],
   "source": [
    "# exercise 2\n",
    "#loop through and print every letter in this word\n",
    "my_word = 'Lithium'\n",
    "for letter in my_word:\n",
    "    print(letter)\n",
    "    "
   ]
  },
  {
   "cell_type": "code",
   "execution_count": 24,
   "id": "8abbbf4e-38b1-41f7-bc71-63036b946510",
   "metadata": {},
   "outputs": [
    {
     "name": "stdout",
     "output_type": "stream",
     "text": [
      "L\n",
      "i\n",
      "t\n",
      "h\n",
      "i\n",
      "u\n",
      "m\n",
      "7\n"
     ]
    }
   ],
   "source": [
    "# exercise 2\n",
    "#loop through and print every letter in this word\n",
    "my_word = 'Lithium'\n",
    "length_word= 0\n",
    "for letter in my_word:\n",
    "    print(letter)\n",
    "    length_word = length_word + 1\n",
    "\n",
    "print(length_word)"
   ]
  },
  {
   "cell_type": "code",
   "execution_count": null,
   "id": "4f06fefc-8a59-4d8b-86ee-caa9599e217d",
   "metadata": {},
   "outputs": [],
   "source": []
  }
 ],
 "metadata": {
  "kernelspec": {
   "display_name": "Python 3 (ipykernel)",
   "language": "python",
   "name": "python3"
  },
  "language_info": {
   "codemirror_mode": {
    "name": "ipython",
    "version": 3
   },
   "file_extension": ".py",
   "mimetype": "text/x-python",
   "name": "python",
   "nbconvert_exporter": "python",
   "pygments_lexer": "ipython3",
   "version": "3.11.7"
  }
 },
 "nbformat": 4,
 "nbformat_minor": 5
}
