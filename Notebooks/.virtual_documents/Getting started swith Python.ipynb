


# this cell contains code
3 + 9





# variable is name for a value/some infomation


age = 32


print(age)


my_age = 28


print(my_age)


name = 'Zackkkk'


print(name)


print('my name is:', name)


print('my name is:', name,'and i am',my_age)


your_name = 'balala'


print(your_name)


print('in three years i will be',my_age+3)


my_age_plus3 = my_age +3


print('in three years i will be',my_age_plus3)


# notebooks do return value without printing 
len(your_name)


# not in nootbooks
print(len(your_name))


your_name[1]


your_name[0:3]


# what are the value assigned to the variables :x ,y, swap

x = 1
y = 3
swap = x
x = y
y = swap


print('x=',x,'y=',y,'swap=',swap)





52


type(52)


type(age)


fitness = 'average'
type(fitness)


fitness = 'average + 2'
type(fitness)


first_name = 'Zack'
last_name = 'Yo'
print(first_name+last_name)


print(first_name +'_' +last_name)


print(first_name * 10)


# convert integer to string so we can get number of digits
len(str(52))


# convert string to integer so we can add
age = '36'
age_plus3 = int(age) + 3
print(age_plus3)
type(age_plus3)


# floats: decimal number
temp = 37.4
type(temp)
print(temp + 2)
print(temp/2)
type(temp + 2)


# convert integer/string to float
age = 36
type(age)
float(age)


ph = '7.4'
type(ph)


float_ph = float(ph)


print(float_ph)


# exersize

first = 1.0
second ='1'
third = '1.1'

# which operation will reture the float 2.0?
print(first + float (second)) # correct
print(float(second) + float (third)) # 2.1 (float)
print(first+int(third)) # raise error (cannot do float + str)
print(first+int(float(third))) # correct
print(int(first)+ int(float(third))) # 2 (integer)
print(2.0*second) # cannot mutiply string with float



