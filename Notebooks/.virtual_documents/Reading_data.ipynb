#importing external functionality using libraries/moduels


import pandas


# alias
import pandas as pd


pd.read_csv()





data=pd.read_csv("../data/gapminder_gdp_oceania.csv") # .. means step back one folder, ../../ means step back 2 folder


print(data) # difficut to see


data # by doing this, it will be more visialize for the dataset


data = pd.read_csv("../data/gapminder_gdp_oceania.csv",index_col="country")


data


data.info() # non-null = not empty


data.columns


# rotating the dataframe
data.T


data.plot() # looks werid, if we rotate the data then plot it, might looks better


data.T.plot()


# exercise, read another dataset
data_europe = pd.read_csv("../data/gapminder_gdp_europe.csv")


data_europe


data_europe.describe()


data_europe.head()


data_europe.tail()


import math 



