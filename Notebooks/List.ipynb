{
 "cells": [
  {
   "cell_type": "markdown",
   "id": "45acb140-8956-4a5b-8b93-9a8e397ce274",
   "metadata": {},
   "source": [
    "# Lists\n",
    "## multiple variables"
   ]
  },
  {
   "cell_type": "code",
   "execution_count": 3,
   "id": "13e72be5-7407-4332-ac67-9a6fbc6520e1",
   "metadata": {},
   "outputs": [],
   "source": [
    "age_1 = 35\n",
    "age_2 = 45\n",
    "age_3 = 35\n",
    "#etc"
   ]
  },
  {
   "cell_type": "code",
   "execution_count": 4,
   "id": "cf24f600-73ce-4e13-bf45-8fdca01e9c14",
   "metadata": {},
   "outputs": [
    {
     "name": "stdout",
     "output_type": "stream",
     "text": [
      "[35, 35, 67, 100, 9]\n"
     ]
    }
   ],
   "source": [
    "all_ages = [35,35,67,100,9]\n",
    "print(all_ages)"
   ]
  },
  {
   "cell_type": "code",
   "execution_count": 5,
   "id": "add177a6-ee13-46a3-9d3d-41cb07656380",
   "metadata": {},
   "outputs": [
    {
     "data": {
      "text/plain": [
       "5"
      ]
     },
     "execution_count": 5,
     "metadata": {},
     "output_type": "execute_result"
    }
   ],
   "source": [
    "len(all_ages)"
   ]
  },
  {
   "cell_type": "code",
   "execution_count": 6,
   "id": "35d0a37c-d039-4ffc-8596-6c6785abdecd",
   "metadata": {},
   "outputs": [
    {
     "name": "stdout",
     "output_type": "stream",
     "text": [
      "35\n"
     ]
    }
   ],
   "source": [
    "print(all_ages[0])"
   ]
  },
  {
   "cell_type": "code",
   "execution_count": 7,
   "id": "364505b0-018c-47bb-b6a5-044a0cfb22bc",
   "metadata": {},
   "outputs": [
    {
     "name": "stdout",
     "output_type": "stream",
     "text": [
      "[36, 35, 67, 100, 9]\n"
     ]
    }
   ],
   "source": [
    "# re-assign/replacement\n",
    "all_ages[0] = 36\n",
    "print(all_ages)"
   ]
  },
  {
   "cell_type": "code",
   "execution_count": 9,
   "id": "88362b12-3d34-4046-be1b-01c8205fcf34",
   "metadata": {},
   "outputs": [
    {
     "name": "stdout",
     "output_type": "stream",
     "text": [
      "[]\n",
      "0\n"
     ]
    }
   ],
   "source": [
    "empty_list = []\n",
    "print(empty_list)\n",
    "print(len(empty_list))"
   ]
  },
  {
   "cell_type": "code",
   "execution_count": 10,
   "id": "f464dedc-1038-450e-b1a7-676cacb4e3cf",
   "metadata": {},
   "outputs": [
    {
     "name": "stdout",
     "output_type": "stream",
     "text": [
      "[36, 35, 67, 100, 9, 52]\n",
      "6\n",
      "[36, 35, 67, 100, 9, 52, 69]\n",
      "7\n"
     ]
    }
   ],
   "source": [
    "# add a new variable\n",
    "all_ages.append(52)\n",
    "print(all_ages)\n",
    "print(len(all_ages))\n",
    "all_ages.append(69)\n",
    "print(all_ages)\n",
    "print(len(all_ages))\n"
   ]
  },
  {
   "cell_type": "code",
   "execution_count": 11,
   "id": "d1a5ce25-dd1f-4402-998b-38530d093f18",
   "metadata": {},
   "outputs": [
    {
     "data": {
      "text/plain": [
       "list"
      ]
     },
     "execution_count": 11,
     "metadata": {},
     "output_type": "execute_result"
    }
   ],
   "source": [
    "type(all_ages)"
   ]
  },
  {
   "cell_type": "code",
   "execution_count": 13,
   "id": "3f2d1f4a-a75a-46e0-b317-3a367897e6af",
   "metadata": {},
   "outputs": [
    {
     "name": "stdout",
     "output_type": "stream",
     "text": [
      "[35, 67, 100, 9, 52, 69]\n",
      "[67, 100, 9, 52, 69]\n",
      "[67, 100, 52, 69]\n"
     ]
    }
   ],
   "source": [
    "# remove item from a list\n",
    "print(all_ages)\n",
    "del all_ages[0]\n",
    "print(all_ages)\n",
    "del all_ages[2]\n",
    "print(all_ages)"
   ]
  },
  {
   "cell_type": "code",
   "execution_count": 14,
   "id": "8be6b713-df62-41d9-9606-9b8370d7bc81",
   "metadata": {},
   "outputs": [
    {
     "name": "stdout",
     "output_type": "stream",
     "text": [
      "['xxx', 'yyy', 'zzz']\n"
     ]
    }
   ],
   "source": [
    "# list of strings \n",
    "all_names = ['xxx','yyy','zzz']\n",
    "print(all_names)"
   ]
  },
  {
   "cell_type": "code",
   "execution_count": 15,
   "id": "a3d71a18-3b47-492f-a120-40b000643e06",
   "metadata": {},
   "outputs": [
    {
     "data": {
      "text/plain": [
       "str"
      ]
     },
     "execution_count": 15,
     "metadata": {},
     "output_type": "execute_result"
    }
   ],
   "source": [
    "type(all_names[1])"
   ]
  },
  {
   "cell_type": "code",
   "execution_count": 16,
   "id": "f7444afe-396e-4b44-997c-ddec3790fada",
   "metadata": {},
   "outputs": [
    {
     "name": "stdout",
     "output_type": "stream",
     "text": [
      "['xxx', 36, 67.2]\n"
     ]
    },
    {
     "data": {
      "text/plain": [
       "int"
      ]
     },
     "execution_count": 16,
     "metadata": {},
     "output_type": "execute_result"
    }
   ],
   "source": [
    "# mix list\n",
    "mix_list =['xxx',36,67.2]\n",
    "print(mix_list)\n",
    "type(mix_list[0])\n",
    "type(mix_list[1])\n"
   ]
  },
  {
   "cell_type": "code",
   "execution_count": 17,
   "id": "c63f5202-aefe-4ab1-9d7b-25e55e078106",
   "metadata": {},
   "outputs": [
    {
     "data": {
      "text/plain": [
       "'z'"
      ]
     },
     "execution_count": 17,
     "metadata": {},
     "output_type": "execute_result"
    }
   ],
   "source": [
    "mix_list[1] = 'yyy'\n",
    "my_name = 'zzz'\n",
    "my_name[0]"
   ]
  },
  {
   "cell_type": "code",
   "execution_count": 18,
   "id": "be717589-9528-4de0-b166-f5ed0779f285",
   "metadata": {},
   "outputs": [
    {
     "ename": "TypeError",
     "evalue": "'str' object does not support item assignment",
     "output_type": "error",
     "traceback": [
      "\u001b[0;31m---------------------------------------------------------------------------\u001b[0m",
      "\u001b[0;31mTypeError\u001b[0m                                 Traceback (most recent call last)",
      "Cell \u001b[0;32mIn[18], line 1\u001b[0m\n\u001b[0;32m----> 1\u001b[0m my_name[\u001b[38;5;241m0\u001b[39m] \u001b[38;5;241m=\u001b[39m \u001b[38;5;124m'\u001b[39m\u001b[38;5;124mH\u001b[39m\u001b[38;5;124m'\u001b[39m\n",
      "\u001b[0;31mTypeError\u001b[0m: 'str' object does not support item assignment"
     ]
    }
   ],
   "source": [
    "my_name[0] = 'H'"
   ]
  },
  {
   "cell_type": "code",
   "execution_count": 19,
   "id": "54dcdee5-32f1-4dd9-a732-9aee326a0c0e",
   "metadata": {},
   "outputs": [
    {
     "name": "stdout",
     "output_type": "stream",
     "text": [
      "m\n"
     ]
    }
   ],
   "source": [
    "#exercize\n",
    "element = 'helium'\n",
    "print(element[-1])"
   ]
  },
  {
   "cell_type": "code",
   "execution_count": 21,
   "id": "9ec0d6d3-bc6a-43d7-8917-3ef9f8479150",
   "metadata": {},
   "outputs": [
    {
     "name": "stdout",
     "output_type": "stream",
     "text": [
      "i\n"
     ]
    }
   ],
   "source": [
    "print(element[-3])"
   ]
  },
  {
   "cell_type": "code",
   "execution_count": 22,
   "id": "2af3f5f2-200f-48ac-9bc7-ded35e9c54f4",
   "metadata": {},
   "outputs": [
    {
     "name": "stdout",
     "output_type": "stream",
     "text": [
      "lithium\n"
     ]
    }
   ],
   "source": [
    "element = 'lithium'\n",
    "print(element[0:20])"
   ]
  },
  {
   "cell_type": "code",
   "execution_count": 23,
   "id": "26c74ccd-a93c-40fc-b73d-62779cb4b8ea",
   "metadata": {},
   "outputs": [
    {
     "name": "stdout",
     "output_type": "stream",
     "text": [
      "\n"
     ]
    }
   ],
   "source": [
    "print(element[-1:3]) # shows nothing when counting backward"
   ]
  },
  {
   "cell_type": "code",
   "execution_count": 24,
   "id": "52895176-a093-4e13-8fd0-2bc18fe090fb",
   "metadata": {},
   "outputs": [
    {
     "name": "stdout",
     "output_type": "stream",
     "text": [
      "ithiu\n"
     ]
    }
   ],
   "source": [
    "print(element[1:-1])"
   ]
  },
  {
   "cell_type": "code",
   "execution_count": 25,
   "id": "9bf296cf-11e7-47f2-8e84-b9bf1a96e5e2",
   "metadata": {},
   "outputs": [
    {
     "name": "stdout",
     "output_type": "stream",
     "text": [
      "um\n"
     ]
    }
   ],
   "source": [
    "print(element[-2:])"
   ]
  },
  {
   "cell_type": "code",
   "execution_count": 28,
   "id": "bfec7ae2-7209-4227-8b31-53a2f0b9c8bb",
   "metadata": {},
   "outputs": [
    {
     "name": "stdout",
     "output_type": "stream",
     "text": [
      "[67, 100, 52, 69, [4, 5, 6]]\n",
      "[67, 100, 52, 69, [4, 5, 6], [4, 5, 6]]\n",
      "[67, 100, 52, 69, [4, 5, 6], [4, 5, 6], 4, 5, 6]\n"
     ]
    }
   ],
   "source": [
    "# adding more than one item in a list\n",
    "print(all_ages)\n",
    "new_ages = [4,5,6]\n",
    "all_ages.append(new_ages)\n",
    "print(all_ages) #nest list\n",
    "print(all_ages+new_ages)"
   ]
  },
  {
   "cell_type": "code",
   "execution_count": null,
   "id": "ee4aa55c-bc1d-4b0f-95a4-0c54a0845aec",
   "metadata": {},
   "outputs": [],
   "source": []
  }
 ],
 "metadata": {
  "kernelspec": {
   "display_name": "Python 3 (ipykernel)",
   "language": "python",
   "name": "python3"
  },
  "language_info": {
   "codemirror_mode": {
    "name": "ipython",
    "version": 3
   },
   "file_extension": ".py",
   "mimetype": "text/x-python",
   "name": "python",
   "nbconvert_exporter": "python",
   "pygments_lexer": "ipython3",
   "version": "3.11.7"
  }
 },
 "nbformat": 4,
 "nbformat_minor": 5
}
